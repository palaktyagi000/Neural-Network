{
  "nbformat": 4,
  "nbformat_minor": 0,
  "metadata": {
    "colab": {
      "name": "TensorFlow basics.ipynb",
      "provenance": []
    },
    "kernelspec": {
      "name": "python3",
      "display_name": "Python 3"
    },
    "language_info": {
      "name": "python"
    }
  },
  "cells": [
    {
      "cell_type": "code",
      "metadata": {
        "id": "ARaFnALaR7bc"
      },
      "source": [
        "import tensorflow as tf"
      ],
      "execution_count": null,
      "outputs": []
    },
    {
      "cell_type": "code",
      "metadata": {
        "colab": {
          "base_uri": "https://localhost:8080/"
        },
        "id": "pJPLZBQZSJ3-",
        "outputId": "8205526b-9e7f-4581-b6f9-ec34960863e7"
      },
      "source": [
        "x1 = tf.constant(5)\n",
        "x2 = tf.constant(6)\n",
        "\n",
        "result = tf.multiply(x1,x2)\n",
        "\n",
        "print(result)\n",
        "#sess = tf.compat.v1.Session()\n",
        "#print(sess.run(result))"
      ],
      "execution_count": null,
      "outputs": [
        {
          "output_type": "stream",
          "text": [
            "tf.Tensor(30, shape=(), dtype=int32)\n"
          ],
          "name": "stdout"
        }
      ]
    },
    {
      "cell_type": "code",
      "metadata": {
        "id": "28Vimnx1TC1p"
      },
      "source": [
        "'''\n",
        "input > weight > hidden layer 1 (activation function) > weights > hidden 2\n",
        "(activation function) > weights > output layer\n",
        "\n",
        "compare output to intended output > cost function (cross entropy)\n",
        "optimization function (optimizer) > minimize cost  (adam, SGD, aDaGrad)\n",
        "\n",
        "backpropagation\n",
        "\n",
        "feed forward + backprop = epoch\n",
        "\n",
        "'''\n",
        "import tensorflow as tf\n",
        "from tensorflow.keras.datasets import mnist\n",
        "\n",
        "'''\n",
        "0 = 0\n",
        "1 = 1\n",
        "but one_hot = 0 = [1, 0, 0, 0, 0, 0, 0, 0, 0, 0]\n",
        "'''\n",
        "n_nodes_hl1 = 500\n",
        "n_nodes_hl2 = 500\n",
        "n_nodes_hl3 = 500\n",
        "\n",
        "n_classes = 10\n",
        "batch_size = 100\n",
        "\n",
        "x = tf.placeholder('float',[None, 784])\n",
        "y = tf.placeholder('float')\n",
        "\n",
        "def neural_network_model(data):\n",
        "  #input data * weights + biases\n",
        "  hidden_1_layer = {'weights': tf.Variable(tf.random_normal([784, n_nodes_hl1])),\n",
        "                    'biases': tf.Variable(tf.random_normal(n_nodes_hl1))}\n",
        "  hidden_2_layer = {'weights': tf.Variable(tf.random_normal([n_nodes_hl1, n_nodes_hl2])),\n",
        "                    'biases': tf.Variable(tf.random_normal(n_nodes_hl2))}\n",
        "  hidden_3_layer = {'weights': tf.Variable(tf.random_normal([n_nodes_hl2, n_nodes_hl3])),\n",
        "                    'biases': tf.Variable(tf.random_normal(n_nodes_hl3))}                  \n",
        "  output_layer = {'weights': tf.Variable(tf.random_normal([n_nodes_hl3, n_classes])),\n",
        "                    'biases': tf.Variable(tf.random_normal(n_classes))}\n",
        "\n",
        "\n",
        "  "
      ],
      "execution_count": null,
      "outputs": []
    },
    {
      "cell_type": "code",
      "metadata": {
        "id": "LlRkHMFBcDV8"
      },
      "source": [
        ""
      ],
      "execution_count": null,
      "outputs": []
    }
  ]
}